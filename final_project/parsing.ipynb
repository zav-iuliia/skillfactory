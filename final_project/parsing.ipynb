{
 "cells": [
  {
   "cell_type": "code",
   "execution_count": 1,
   "id": "5285522c",
   "metadata": {},
   "outputs": [],
   "source": [
    "import json\n",
    "import os\n",
    "\n",
    "import pandas as pd\n",
    "from bs4 import BeautifulSoup\n",
    "import requests as r\n",
    "from tqdm import tqdm\n",
    "from pqdm.threads import pqdm"
   ]
  },
  {
   "cell_type": "code",
   "execution_count": 2,
   "id": "f67bfbf5",
   "metadata": {},
   "outputs": [],
   "source": [
    "BASE_URL = \"https://birds.kg/\"\n",
    "\n",
    "\n",
    "def get_all_bird_links():\n",
    "    res = r.get(BASE_URL)\n",
    "    soup = BeautifulSoup(res.text)\n",
    "    all_links = soup.find_all(\"a\")\n",
    "\n",
    "    bird_links = []\n",
    "    for link in all_links:\n",
    "        if link.has_attr(\"href\") and \"family.php\" in link.attrs[\"href\"]:\n",
    "            bird_links.append(BASE_URL + link.attrs[\"href\"])\n",
    "    return bird_links"
   ]
  },
  {
   "cell_type": "code",
   "execution_count": 3,
   "id": "280486de",
   "metadata": {},
   "outputs": [],
   "source": [
    "def get_all_species_links(bird_links):\n",
    "    species_links = set()\n",
    "\n",
    "    for link in tqdm(bird_links):\n",
    "        soup = BeautifulSoup(r.get(link).text)\n",
    "        all_links = soup.find_all(\"a\")\n",
    "\n",
    "        for link in all_links:\n",
    "            if link.has_attr(\"href\") and \"v2taxon.php\" in link.attrs[\"href\"]:\n",
    "                link = BASE_URL + link.attrs[\"href\"]\n",
    "                species_links.add(link)\n",
    "    return list(species_links)"
   ]
  },
  {
   "cell_type": "code",
   "execution_count": 4,
   "id": "cf0c6be2",
   "metadata": {},
   "outputs": [],
   "source": [
    "def get_bird_info(link):\n",
    "    info = {}\n",
    "    link = link.replace(\"en\", \"ru\")\n",
    "    soup = BeautifulSoup(r.get(link).text)\n",
    "\n",
    "    info[\"url\"] = link\n",
    "    info[\"russian\"] = soup.find_all(\"h1\")[0].text.strip()\n",
    "    info[\"latin\"] = soup.find_all(\"h2\")[0].text.split(\"(\")[0].strip()\n",
    "    info[\"english\"] = (\n",
    "        soup.find(\"section\", class_=\"orta\")\n",
    "        .find_all(\"div\")[6]\n",
    "        .text.split(\"|\")[0]\n",
    "        .strip()\n",
    "    )\n",
    "\n",
    "    for p in soup.find(\"section\", class_=\"orta\").find_all(\"p\"):\n",
    "        if len(p.text) > 100:\n",
    "            info[\"description\"] = p.contents[0].strip()\n",
    "            break\n",
    "\n",
    "    return info"
   ]
  },
  {
   "cell_type": "code",
   "execution_count": 5,
   "id": "736100c5",
   "metadata": {},
   "outputs": [],
   "source": [
    "def get_bird_images(link):\n",
    "    link = link.replace(\"en\", \"ru\").replace(\"taxon\", \"taxgal\") + \"&p=0\"\n",
    "    soup = BeautifulSoup(r.get(link).text)\n",
    "\n",
    "    bird_images = []\n",
    "    all_images = soup.find_all(\"img\")\n",
    "    for image in all_images:\n",
    "        if image.has_attr(\"data-src\") and image.attrs[\"data-src\"].startswith(\"photos/\"):\n",
    "            bird_images.append(\n",
    "                BASE_URL + image.attrs[\"data-src\"].replace(\"s.jpg\", \".jpg\")\n",
    "            )\n",
    "    return bird_images"
   ]
  },
  {
   "cell_type": "code",
   "execution_count": 6,
   "id": "0ec5c7a4",
   "metadata": {},
   "outputs": [],
   "source": [
    "def process_specie(link):\n",
    "    info = get_bird_info(link)\n",
    "\n",
    "    # create folder\n",
    "    folder = info[\"latin\"].replace(\" \", \"_\")\n",
    "    os.makedirs(folder, exist_ok=True)\n",
    "\n",
    "    # save info to file\n",
    "    with open(f\"{folder}/info.json\", \"w\", encoding=\"utf-8\") as file:\n",
    "        json.dump(info, file)\n",
    "\n",
    "    # download all images\n",
    "    images = get_bird_images(link)\n",
    "    for idx, image in enumerate(images, start=1):\n",
    "        try:\n",
    "            with open(f\"{folder}/{idx:02d}.jpg\", \"wb\") as file:\n",
    "                file.write(r.get(image).content)\n",
    "        except Exception as e:\n",
    "            print(f\"Could not donwload image from {image}, error: {e}\")"
   ]
  },
  {
   "cell_type": "code",
   "execution_count": 7,
   "id": "6a9a5b17",
   "metadata": {},
   "outputs": [
    {
     "name": "stderr",
     "output_type": "stream",
     "text": [
      "100%|█████████████████████████████████████████████████████| 59/59 [00:58<00:00,  1.01it/s]\n"
     ]
    }
   ],
   "source": [
    "bird_links = get_all_bird_links()\n",
    "species_links = get_all_species_links(bird_links)"
   ]
  },
  {
   "cell_type": "code",
   "execution_count": 8,
   "id": "db2ccdb4",
   "metadata": {
    "scrolled": false
   },
   "outputs": [
    {
     "name": "stderr",
     "output_type": "stream",
     "text": [
      " 83%|██████████████████████████████████████████▎        | 274/330 [06:03<01:16,  1.37s/it]"
     ]
    },
    {
     "name": "stdout",
     "output_type": "stream",
     "text": [
      "Failed to parse info from https://birds.kg/v2taxon.php?s=372&l=en\n"
     ]
    },
    {
     "name": "stderr",
     "output_type": "stream",
     "text": [
      "100%|███████████████████████████████████████████████████| 330/330 [07:14<00:00,  1.32s/it]\n"
     ]
    }
   ],
   "source": [
    "all_infos = []\n",
    "for link in tqdm(species_links):\n",
    "    try:\n",
    "        all_infos.append(get_bird_info(link))\n",
    "    except:\n",
    "        print(f\"Failed to parse info from {link}\")"
   ]
  },
  {
   "cell_type": "code",
   "execution_count": null,
   "id": "e96deae7",
   "metadata": {},
   "outputs": [],
   "source": [
    "pqdm(species_links, process_specie, n_jobs=10)"
   ]
  },
  {
   "cell_type": "code",
   "execution_count": 11,
   "id": "eda9f409",
   "metadata": {},
   "outputs": [],
   "source": [
    "df = pd.DataFrame(all_infos)\n",
    "df.to_csv(\"2021-07-28-birds_and_image.csv\", index=False)"
   ]
  }
 ],
 "metadata": {
  "kernelspec": {
   "display_name": "Python 3 (ipykernel)",
   "language": "python",
   "name": "python3"
  },
  "language_info": {
   "codemirror_mode": {
    "name": "ipython",
    "version": 3
   },
   "file_extension": ".py",
   "mimetype": "text/x-python",
   "name": "python",
   "nbconvert_exporter": "python",
   "pygments_lexer": "ipython3",
   "version": "3.9.6"
  }
 },
 "nbformat": 4,
 "nbformat_minor": 5
}
