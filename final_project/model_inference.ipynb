{
 "nbformat": 4,
 "nbformat_minor": 0,
 "metadata": {
  "colab": {
   "name": "model_inference.ipynb",
   "provenance": [],
   "collapsed_sections": []
  },
  "kernelspec": {
   "name": "python3",
   "display_name": "Python 3"
  },
  "language_info": {
   "name": "python"
  }
 },
 "cells": [
  {
   "cell_type": "code",
   "metadata": {
    "colab": {
     "base_uri": "https://localhost:8080/"
    },
    "id": "f1tqts30qqk4",
    "outputId": "7874b4f7-0db3-4e81-ba3a-62db1b270c66"
   },
   "source": [
    "!pip uninstall -q numpy tensorflow-estimator tensorflow folium imgaug -y\n",
    "!pip install -q \"albumentations==0.5.2\" \"numpy<1.19.0\" \"tensorflow-estimator<2.4.0,>=2.3.0\" \"tensorflow<2.4\"\n",
    "!pip install -q git+https://github.com/mjkvaak/ImageDataAugmentor"
   ],
   "execution_count": null,
   "outputs": [
    {
     "output_type": "stream",
     "name": "stdout",
     "text": [
      "\u001b[K     |████████████████████████████████| 72 kB 497 kB/s \n",
      "\u001b[K     |████████████████████████████████| 20.1 MB 1.3 MB/s \n",
      "\u001b[K     |████████████████████████████████| 459 kB 24.7 MB/s \n",
      "\u001b[K     |████████████████████████████████| 320.6 MB 32 kB/s \n",
      "\u001b[K     |████████████████████████████████| 948 kB 46.1 MB/s \n",
      "\u001b[K     |████████████████████████████████| 37.1 MB 49 kB/s \n",
      "\u001b[K     |████████████████████████████████| 2.9 MB 15.6 MB/s \n",
      "\u001b[K     |████████████████████████████████| 49.9 MB 16 kB/s \n",
      "\u001b[?25h  Building wheel for ImageDataAugmentor (setup.py) ... \u001b[?25l\u001b[?25hdone\n"
     ]
    }
   ]
  },
  {
   "cell_type": "code",
   "metadata": {
    "id": "FFTZUsWxrURe"
   },
   "source": [
    "import tensorflow as tf\n",
    "from tensorflow import keras\n",
    "from tensorflow.keras import regularizers\n",
    "from tensorflow.keras.layers import (\n",
    "    Activation,\n",
    "    BatchNormalization,\n",
    "    Conv2D,\n",
    "    Dense,\n",
    "    Dropout,\n",
    "    Flatten,\n",
    "    MaxPooling2D,\n",
    ")\n",
    "from tensorflow.keras.models import Model, Sequential, load_model\n",
    "from tensorflow.keras.optimizers import Adam, Adamax"
   ],
   "execution_count": null,
   "outputs": []
  },
  {
   "cell_type": "code",
   "metadata": {
    "id": "kknTMdm1p619"
   },
   "source": [
    "class_count = 78\n",
    "height = 224\n",
    "width = 224\n",
    "channels = 3\n",
    "img_shape = (height, width, channels)\n",
    "IMG_SIZE = (height, width)\n",
    "\n",
    "\n",
    "def create_model(class_count):\n",
    "    base_model = tf.keras.applications.EfficientNetB1(\n",
    "        include_top=False, weights=\"imagenet\", input_shape=img_shape, pooling=\"max\"\n",
    "    )\n",
    "    x = base_model.output\n",
    "    x = keras.layers.BatchNormalization(axis=-1, momentum=0.99, epsilon=0.001)(x)\n",
    "    x = Dense(\n",
    "        256,\n",
    "        kernel_regularizer=regularizers.l2(l=0.016),\n",
    "        activity_regularizer=regularizers.l1(0.006),\n",
    "        bias_regularizer=regularizers.l1(0.006),\n",
    "        activation=\"relu\",\n",
    "    )(x)\n",
    "    x = Dropout(rate=0.45, seed=123)(x)\n",
    "    output = Dense(class_count, activation=\"softmax\")(x)\n",
    "    model = Model(inputs=base_model.input, outputs=output)\n",
    "    model.compile(\n",
    "        Adamax(lr=0.001), loss=\"categorical_crossentropy\", metrics=[\"accuracy\"]\n",
    "    )\n",
    "    return model\n",
    "\n",
    "\n",
    "import json\n",
    "\n",
    "\n",
    "def load_lookup_map():\n",
    "    return {\n",
    "        int(k): v for k, v in json.load(open(\"drive/MyDrive/bird-classes.json\")).items()\n",
    "    }\n",
    "\n",
    "\n",
    "lookup_map = load_lookup_map()"
   ],
   "execution_count": null,
   "outputs": []
  },
  {
   "cell_type": "code",
   "metadata": {
    "colab": {
     "base_uri": "https://localhost:8080/"
    },
    "id": "nqMjROKbqT0d",
    "outputId": "c1a609e7-a088-4a7f-f1ee-73ea3a21d301"
   },
   "source": [
    "model = create_model(class_count)\n",
    "model.load_weights(\"drive/MyDrive/birds-birds-95.87.h5\")"
   ],
   "execution_count": null,
   "outputs": [
    {
     "output_type": "stream",
     "name": "stdout",
     "text": [
      "Downloading data from https://storage.googleapis.com/keras-applications/efficientnetb1_notop.h5\n",
      "27025408/27018416 [==============================] - 0s 0us/step\n",
      "27033600/27018416 [==============================] - 0s 0us/step\n"
     ]
    },
    {
     "output_type": "stream",
     "name": "stderr",
     "text": [
      "/usr/local/lib/python3.7/dist-packages/keras/optimizer_v2/optimizer_v2.py:356: UserWarning: The `lr` argument is deprecated, use `learning_rate` instead.\n",
      "  \"The `lr` argument is deprecated, use `learning_rate` instead.\")\n"
     ]
    }
   ]
  },
  {
   "cell_type": "code",
   "metadata": {
    "id": "o8ncm7g52XYb"
   },
   "source": [
    "from PIL import Image\n",
    "import numpy as np\n",
    "\n",
    "\n",
    "def preprocess_photo(filename):\n",
    "    img = Image.open(open(filename, \"rb\"))\n",
    "    if img.mode != \"RGB\":\n",
    "        img = img.convert(\"RGB\")\n",
    "    img = img.resize(IMG_SIZE)\n",
    "    return np.expand_dims(np.asarray(img), axis=0)"
   ],
   "execution_count": null,
   "outputs": []
  },
  {
   "cell_type": "code",
   "metadata": {
    "colab": {
     "base_uri": "https://localhost:8080/",
     "height": 36
    },
    "id": "M9y_VcS3MnG_",
    "outputId": "ce0264cb-5b65-4219-b3f9-c3fffe9eb62a"
   },
   "source": [
    "predict_species(random.choice(photos))"
   ],
   "execution_count": null,
   "outputs": [
    {
     "output_type": "execute_result",
     "data": {
      "application/vnd.google.colaboratory.intrinsic+json": {
       "type": "string"
      },
      "text/plain": [
       "'Best prediction: Streptopelia orientalis (94.7%)'"
      ]
     },
     "metadata": {},
     "execution_count": 124
    }
   ]
  },
  {
   "cell_type": "code",
   "metadata": {
    "id": "8Ab6GmOwGLYt"
   },
   "source": [
    "def predict_species(photo):\n",
    "    pred = model.predict(preprocess_photo(photo))\n",
    "    best_pred = pred.argmax()\n",
    "    best_score = round(pred[0][best_pred] * 100, 1)\n",
    "    species = lookup_map[best_pred]\n",
    "    return f\"Best prediction: {species} ({best_score}%)\""
   ],
   "execution_count": null,
   "outputs": []
  }
 ]
}
